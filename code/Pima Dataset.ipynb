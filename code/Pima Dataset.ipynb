{
 "cells": [
  {
   "cell_type": "code",
   "execution_count": 1,
   "metadata": {},
   "outputs": [],
   "source": [
    "from sklearn.datasets import load_diabetes\n",
    "import pandas as pd"
   ]
  },
  {
   "cell_type": "code",
   "execution_count": 2,
   "metadata": {},
   "outputs": [],
   "source": [
    "import matplotlib.pyplot as plt\n",
    "import numpy as np\n",
    "\n",
    "np.random.seed(42)"
   ]
  },
  {
   "cell_type": "code",
   "execution_count": 3,
   "metadata": {},
   "outputs": [],
   "source": [
    "data = load_diabetes(False)"
   ]
  },
  {
   "cell_type": "markdown",
   "metadata": {},
   "source": [
    "# Background"
   ]
  },
  {
   "cell_type": "markdown",
   "metadata": {},
   "source": [
    "Diabetes melitus is a group of metabolic disorders where the blood sugar levels are higher than the normal for prolonged period of time. Diabetes is caused either due to the insufficient insulin in the body or due to improper response of the body's cells to insulin.\n",
    "\n",
    "Diabetes is especially hard on women as it can effect both mother and their unborn children during pregnancy."
   ]
  },
  {
   "cell_type": "markdown",
   "metadata": {},
   "source": [
    "# Dataset\n",
    "\n",
    "Data contains data of 768 females of which 268 females were diangosed with Diabetes. Information available includes 8 variables, such as age, number of pregnancies, Glucose, insulin etc. Response variable is in the dataset is a binary classifier, Outcome, that indicates if the person was diagnosed with Diabetes or not"
   ]
  },
  {
   "cell_type": "markdown",
   "metadata": {},
   "source": [
    "# Load the dataset"
   ]
  },
  {
   "cell_type": "markdown",
   "metadata": {},
   "source": [
    "In this tutorial, we are going to use the Pima Indians Datasets. This is standard machine learning dataset available for free download from UCI machine learning library. It describes patient medical record for Pima Indians and whether they had an onset of diabetes with 5 years. \n",
    "\n",
    "**Predict the occurence of diabetes among the women in community of pima in Arizona.**"
   ]
  },
  {
   "cell_type": "markdown",
   "metadata": {},
   "source": [
    "Here are the variables\n",
    "1. Pregnant\n",
    "2. Plasma glucose concentration a 2 hours in an oral glucose tolerance test\n",
    "3. Diabetes blood pressure\n",
    "4. Triceps skip fold thickness\n",
    "5. Insulin\n",
    "6. Body mass index\n",
    "7. pedigree\n",
    "8. Age\n",
    "9. Class, onset of diabetes with 5 years"
   ]
  },
  {
   "cell_type": "code",
   "execution_count": 4,
   "metadata": {},
   "outputs": [],
   "source": [
    "names = ['Preg','Glu','Dias','Tric','Ins','Bmi','Ped','Age','Target']"
   ]
  },
  {
   "cell_type": "code",
   "execution_count": 5,
   "metadata": {},
   "outputs": [],
   "source": [
    "diabetes = pd.read_csv(\"https://raw.githubusercontent.com/jbrownlee/Datasets/master/pima-indians-diabetes.data.csv\",header=None,names=names)"
   ]
  },
  {
   "cell_type": "code",
   "execution_count": 6,
   "metadata": {},
   "outputs": [
    {
     "data": {
      "text/html": [
       "<div>\n",
       "<style scoped>\n",
       "    .dataframe tbody tr th:only-of-type {\n",
       "        vertical-align: middle;\n",
       "    }\n",
       "\n",
       "    .dataframe tbody tr th {\n",
       "        vertical-align: top;\n",
       "    }\n",
       "\n",
       "    .dataframe thead th {\n",
       "        text-align: right;\n",
       "    }\n",
       "</style>\n",
       "<table border=\"1\" class=\"dataframe\">\n",
       "  <thead>\n",
       "    <tr style=\"text-align: right;\">\n",
       "      <th></th>\n",
       "      <th>Preg</th>\n",
       "      <th>Glu</th>\n",
       "      <th>Dias</th>\n",
       "      <th>Tric</th>\n",
       "      <th>Ins</th>\n",
       "      <th>Bmi</th>\n",
       "      <th>Ped</th>\n",
       "      <th>Age</th>\n",
       "      <th>Target</th>\n",
       "    </tr>\n",
       "  </thead>\n",
       "  <tbody>\n",
       "    <tr>\n",
       "      <th>0</th>\n",
       "      <td>6</td>\n",
       "      <td>148</td>\n",
       "      <td>72</td>\n",
       "      <td>35</td>\n",
       "      <td>0</td>\n",
       "      <td>33.6</td>\n",
       "      <td>0.627</td>\n",
       "      <td>50</td>\n",
       "      <td>1</td>\n",
       "    </tr>\n",
       "    <tr>\n",
       "      <th>1</th>\n",
       "      <td>1</td>\n",
       "      <td>85</td>\n",
       "      <td>66</td>\n",
       "      <td>29</td>\n",
       "      <td>0</td>\n",
       "      <td>26.6</td>\n",
       "      <td>0.351</td>\n",
       "      <td>31</td>\n",
       "      <td>0</td>\n",
       "    </tr>\n",
       "    <tr>\n",
       "      <th>2</th>\n",
       "      <td>8</td>\n",
       "      <td>183</td>\n",
       "      <td>64</td>\n",
       "      <td>0</td>\n",
       "      <td>0</td>\n",
       "      <td>23.3</td>\n",
       "      <td>0.672</td>\n",
       "      <td>32</td>\n",
       "      <td>1</td>\n",
       "    </tr>\n",
       "    <tr>\n",
       "      <th>3</th>\n",
       "      <td>1</td>\n",
       "      <td>89</td>\n",
       "      <td>66</td>\n",
       "      <td>23</td>\n",
       "      <td>94</td>\n",
       "      <td>28.1</td>\n",
       "      <td>0.167</td>\n",
       "      <td>21</td>\n",
       "      <td>0</td>\n",
       "    </tr>\n",
       "    <tr>\n",
       "      <th>4</th>\n",
       "      <td>0</td>\n",
       "      <td>137</td>\n",
       "      <td>40</td>\n",
       "      <td>35</td>\n",
       "      <td>168</td>\n",
       "      <td>43.1</td>\n",
       "      <td>2.288</td>\n",
       "      <td>33</td>\n",
       "      <td>1</td>\n",
       "    </tr>\n",
       "  </tbody>\n",
       "</table>\n",
       "</div>"
      ],
      "text/plain": [
       "   Preg  Glu  Dias  Tric  Ins   Bmi    Ped  Age  Target\n",
       "0     6  148    72    35    0  33.6  0.627   50       1\n",
       "1     1   85    66    29    0  26.6  0.351   31       0\n",
       "2     8  183    64     0    0  23.3  0.672   32       1\n",
       "3     1   89    66    23   94  28.1  0.167   21       0\n",
       "4     0  137    40    35  168  43.1  2.288   33       1"
      ]
     },
     "execution_count": 6,
     "metadata": {},
     "output_type": "execute_result"
    }
   ],
   "source": [
    "diabetes.head()"
   ]
  },
  {
   "cell_type": "markdown",
   "metadata": {},
   "source": [
    "# Exploratory data analysis"
   ]
  },
  {
   "cell_type": "code",
   "execution_count": 9,
   "metadata": {},
   "outputs": [],
   "source": [
    "a = bp['Preg']['boxes'][0]"
   ]
  },
  {
   "cell_type": "code",
   "execution_count": 14,
   "metadata": {},
   "outputs": [
    {
     "data": {
      "text/plain": [
       "{'boxes': [<matplotlib.patches.PathPatch at 0x10ae10a90>,\n",
       "  <matplotlib.patches.PathPatch at 0x10ae0d6d8>],\n",
       " 'caps': [<matplotlib.lines.Line2D at 0x10ade6320>,\n",
       "  <matplotlib.lines.Line2D at 0x10ade6748>,\n",
       "  <matplotlib.lines.Line2D at 0x10b44fe10>,\n",
       "  <matplotlib.lines.Line2D at 0x10b44f2e8>],\n",
       " 'fliers': [<matplotlib.lines.Line2D at 0x10ade6f98>,\n",
       "  <matplotlib.lines.Line2D at 0x10b456518>],\n",
       " 'means': [],\n",
       " 'medians': [<matplotlib.lines.Line2D at 0x10ade6b70>,\n",
       "  <matplotlib.lines.Line2D at 0x10b41e828>],\n",
       " 'whiskers': [<matplotlib.lines.Line2D at 0x10ae10cf8>,\n",
       "  <matplotlib.lines.Line2D at 0x10ae10e48>,\n",
       "  <matplotlib.lines.Line2D at 0x10b431978>,\n",
       "  <matplotlib.lines.Line2D at 0x10b44c160>]}"
      ]
     },
     "execution_count": 14,
     "metadata": {},
     "output_type": "execute_result"
    }
   ],
   "source": [
    "bp['Preg']"
   ]
  },
  {
   "cell_type": "code",
   "execution_count": 31,
   "metadata": {},
   "outputs": [
    {
     "data": {
      "text/plain": [
       "<matplotlib.axes._subplots.AxesSubplot at 0x10f71f908>"
      ]
     },
     "execution_count": 31,
     "metadata": {},
     "output_type": "execute_result"
    },
    {
     "data": {
      "image/png": "[encoded data removed]",
      "text/plain": [
       "<matplotlib.figure.Figure at 0x10f5c3eb8>"
      ]
     },
     "metadata": {},
     "output_type": "display_data"
    }
   ],
   "source": [
    "# Number of pregnancies vs diabetes\n",
    "\n",
    "fig, (ax1,ax2) = plt.subplots(nrows=1, ncols=2,figsize=(10,4))\n",
    "\n",
    "bp = diabetes.boxplot(column=['Preg'], by=['Target'],ax=ax1, return_type=\"dict\", patch_artist=True)\n",
    "\n",
    "# Box plot style adjustments\n",
    "[[item.set_linewidth(4) for item in bp[key]['boxes']] for key in bp.keys()]\n",
    "[[item.set_linewidth(4) for item in bp[key]['fliers']] for key in bp.keys()]\n",
    "\n",
    "\n",
    "[[item.set_facecolor('blue') for item in bp[key]['boxes']] for key in bp.keys()]\n",
    "\n",
    "ax1.set_title(\"Pregnancies vs Diabetes\")\n",
    "ax1.set_xlabel(\"Diabetes\")\n",
    "ax1.set_ylabel(\"Pregnancies\")\n",
    "\n",
    "diabetes.groupby(['Preg','Target']).size().unstack(fill_value=0).plot.bar(width=0.5, align='center',ax=ax2)\n",
    "#[[item.set_facecolor('blue') for item in bp[key]['fliers']] for key in bp.keys()]"
   ]
  },
  {
   "cell_type": "markdown",
   "metadata": {},
   "source": [
    "More pregnancies lead to more diabetes"
   ]
  },
  {
   "cell_type": "markdown",
   "metadata": {},
   "source": [
    "# Glucose"
   ]
  },
  {
   "cell_type": "code",
   "execution_count": 47,
   "metadata": {},
   "outputs": [
    {
     "data": {
      "text/plain": [
       "<matplotlib.legend.Legend at 0x11044d240>"
      ]
     },
     "execution_count": 47,
     "metadata": {},
     "output_type": "execute_result"
    },
    {
     "data": {
      "image/png": "[encoded data removed]",
      "text/plain": [
       "<matplotlib.figure.Figure at 0x1108d8a20>"
      ]
     },
     "metadata": {},
     "output_type": "display_data"
    }
   ],
   "source": [
    "# Number of pregnancies vs diabetes\n",
    "\n",
    "fig, (ax1,ax2) = plt.subplots(nrows=1, ncols=2,figsize=(10,4))\n",
    "\n",
    "bp = diabetes.boxplot(column=['Glu'], by=['Target'],ax=ax1, return_type=\"dict\", patch_artist=True)\n",
    "\n",
    "# Box plot style adjustments\n",
    "[[item.set_linewidth(4) for item in bp[key]['boxes']] for key in bp.keys()]\n",
    "[[item.set_linewidth(4) for item in bp[key]['fliers']] for key in bp.keys()]\n",
    "\n",
    "\n",
    "[[item.set_facecolor('blue') for item in bp[key]['boxes']] for key in bp.keys()]\n",
    "\n",
    "ax1.set_title(\"Pregnancies vs Diabetes\")\n",
    "ax1.set_xlabel(\"Diabetes\")\n",
    "ax1.set_ylabel(\"Pregnancies\"),\n",
    "\n",
    "ax = diabetes.groupby(['Target'])['Glu'].plot.kde(title='Glucose vs Diabetes',)\n",
    "ax[0].legend(['Diabetes:No','Diabetes:Yes'])"
   ]
  },
  {
   "cell_type": "markdown",
   "metadata": {},
   "source": [
    "With more glucose value, more chances to get diabetes"
   ]
  },
  {
   "cell_type": "markdown",
   "metadata": {},
   "source": [
    "# Insulin\n",
    "\n",
    "Again, no clear difference can be observed between the categories of women in the data, indicating insulin may not be a good predictor of the response variable"
   ]
  },
  {
   "cell_type": "code",
   "execution_count": 52,
   "metadata": {},
   "outputs": [
    {
     "data": {
      "text/plain": [
       "<matplotlib.legend.Legend at 0x10e0135f8>"
      ]
     },
     "execution_count": 52,
     "metadata": {},
     "output_type": "execute_result"
    },
    {
     "data": {
      "image/png": "[encoded data removed]",
      "text/plain": [
       "<matplotlib.figure.Figure at 0x10e013978>"
      ]
     },
     "metadata": {},
     "output_type": "display_data"
    }
   ],
   "source": [
    "fig, (ax1, ax2) = plt.subplots(nrows=1, ncols=2, figsize=(10,4))\n",
    "\n",
    "diabetes.boxplot(column=['Ins'],by=['Target'], ax=ax1)\n",
    "ax = diabetes.groupby(['Target'])['Ins'].plot.kde(title='Glucose vs Diabetes',ax=ax2)\n",
    "ax[0].legend(['No','Yes'])"
   ]
  },
  {
   "cell_type": "markdown",
   "metadata": {},
   "source": [
    "# BMI"
   ]
  },
  {
   "cell_type": "code",
   "execution_count": 57,
   "metadata": {},
   "outputs": [
    {
     "data": {
      "text/plain": [
       "Target\n",
       "0    AxesSubplot(0.536364,0.15;0.363636x0.75)\n",
       "1    AxesSubplot(0.536364,0.15;0.363636x0.75)\n",
       "Name: Bmi, dtype: object"
      ]
     },
     "execution_count": 57,
     "metadata": {},
     "output_type": "execute_result"
    },
    {
     "data": {
      "image/png": "[encoded data removed]",
      "text/plain": [
       "<matplotlib.figure.Figure at 0x10e588908>"
      ]
     },
     "metadata": {},
     "output_type": "display_data"
    }
   ],
   "source": [
    "fig, (ax1,ax2) = plt.subplots(nrows=1, ncols=2,figsize=(10,4))\n",
    "\n",
    "diabetes.boxplot(column=['Bmi'],by='Target',ax=ax1)\n",
    "diabetes.groupby('Target')['Bmi'].plot.kde()"
   ]
  },
  {
   "cell_type": "markdown",
   "metadata": {},
   "source": [
    "BMI is little less but still useful in prediction"
   ]
  },
  {
   "cell_type": "markdown",
   "metadata": {},
   "source": [
    "# Scatter plots\n",
    "\n",
    "Can we improve prediction if we use both the predictors"
   ]
  },
  {
   "cell_type": "code",
   "execution_count": 61,
   "metadata": {},
   "outputs": [],
   "source": [
    "diabetes.Target = diabetes.Target.astype('category')"
   ]
  },
  {
   "cell_type": "code",
   "execution_count": 73,
   "metadata": {},
   "outputs": [
    {
     "data": {
      "image/png": "[encoded data removed]",
      "text/plain": [
       "<matplotlib.figure.Figure at 0x10dc1f860>"
      ]
     },
     "metadata": {},
     "output_type": "display_data"
    }
   ],
   "source": [
    "grouped = diabetes.groupby('Target')\n",
    "fig, ax = plt.subplots()\n",
    "colors={0:'red', 1:'blue'}\n",
    "for key, group in grouped:\n",
    "    group.plot(ax=ax, kind='scatter', x='Bmi',y='Tric', label=key, color=colors[key], title='Relatonship between Tric with Bmi vs Target',fontsize=5)\n"
   ]
  },
  {
   "cell_type": "markdown",
   "metadata": {},
   "source": [
    "# correlation"
   ]
  },
  {
   "cell_type": "code",
   "execution_count": 74,
   "metadata": {},
   "outputs": [
    {
     "data": {
      "text/html": [
       "<style  type=\"text/css\" >\n",
       "    #T_4a546086_8a43_11e9_ab6c_109add64fbe3row0_col0 {\n",
       "            background-color:  #b40426;\n",
       "        }    #T_4a546086_8a43_11e9_ab6c_109add64fbe3row0_col1 {\n",
       "            background-color:  #516ddb;\n",
       "        }    #T_4a546086_8a43_11e9_ab6c_109add64fbe3row0_col2 {\n",
       "            background-color:  #5a78e4;\n",
       "        }    #T_4a546086_8a43_11e9_ab6c_109add64fbe3row0_col3 {\n",
       "            background-color:  #4358cb;\n",
       "        }    #T_4a546086_8a43_11e9_ab6c_109add64fbe3row0_col4 {\n",
       "            background-color:  #3b4cc0;\n",
       "        }    #T_4a546086_8a43_11e9_ab6c_109add64fbe3row0_col5 {\n",
       "            background-color:  #3b4cc0;\n",
       "        }    #T_4a546086_8a43_11e9_ab6c_109add64fbe3row0_col6 {\n",
       "            background-color:  #3b4cc0;\n",
       "        }    #T_4a546086_8a43_11e9_ab6c_109add64fbe3row0_col7 {\n",
       "            background-color:  #f1cdba;\n",
       "        }    #T_4a546086_8a43_11e9_ab6c_109add64fbe3row1_col0 {\n",
       "            background-color:  #799cf8;\n",
       "        }    #T_4a546086_8a43_11e9_ab6c_109add64fbe3row1_col1 {\n",
       "            background-color:  #b40426;\n",
       "        }    #T_4a546086_8a43_11e9_ab6c_109add64fbe3row1_col2 {\n",
       "            background-color:  #5e7de7;\n",
       "        }    #T_4a546086_8a43_11e9_ab6c_109add64fbe3row1_col3 {\n",
       "            background-color:  #6b8df0;\n",
       "        }    #T_4a546086_8a43_11e9_ab6c_109add64fbe3row1_col4 {\n",
       "            background-color:  #b9d0f9;\n",
       "        }    #T_4a546086_8a43_11e9_ab6c_109add64fbe3row1_col5 {\n",
       "            background-color:  #7ea1fa;\n",
       "        }    #T_4a546086_8a43_11e9_ab6c_109add64fbe3row1_col6 {\n",
       "            background-color:  #6f92f3;\n",
       "        }    #T_4a546086_8a43_11e9_ab6c_109add64fbe3row1_col7 {\n",
       "            background-color:  #abc8fd;\n",
       "        }    #T_4a546086_8a43_11e9_ab6c_109add64fbe3row2_col0 {\n",
       "            background-color:  #7da0f9;\n",
       "        }    #T_4a546086_8a43_11e9_ab6c_109add64fbe3row2_col1 {\n",
       "            background-color:  #5977e3;\n",
       "        }    #T_4a546086_8a43_11e9_ab6c_109add64fbe3row2_col2 {\n",
       "            background-color:  #b40426;\n",
       "        }    #T_4a546086_8a43_11e9_ab6c_109add64fbe3row2_col3 {\n",
       "            background-color:  #9abbff;\n",
       "        }    #T_4a546086_8a43_11e9_ab6c_109add64fbe3row2_col4 {\n",
       "            background-color:  #6a8bef;\n",
       "        }    #T_4a546086_8a43_11e9_ab6c_109add64fbe3row2_col5 {\n",
       "            background-color:  #93b5fe;\n",
       "        }    #T_4a546086_8a43_11e9_ab6c_109add64fbe3row2_col6 {\n",
       "            background-color:  #506bda;\n",
       "        }    #T_4a546086_8a43_11e9_ab6c_109add64fbe3row2_col7 {\n",
       "            background-color:  #a5c3fe;\n",
       "        }    #T_4a546086_8a43_11e9_ab6c_109add64fbe3row3_col0 {\n",
       "            background-color:  #3b4cc0;\n",
       "        }    #T_4a546086_8a43_11e9_ab6c_109add64fbe3row3_col1 {\n",
       "            background-color:  #3b4cc0;\n",
       "        }    #T_4a546086_8a43_11e9_ab6c_109add64fbe3row3_col2 {\n",
       "            background-color:  #7295f4;\n",
       "        }    #T_4a546086_8a43_11e9_ab6c_109add64fbe3row3_col3 {\n",
       "            background-color:  #b40426;\n",
       "        }    #T_4a546086_8a43_11e9_ab6c_109add64fbe3row3_col4 {\n",
       "            background-color:  #d6dce4;\n",
       "        }    #T_4a546086_8a43_11e9_ab6c_109add64fbe3row3_col5 {\n",
       "            background-color:  #bad0f8;\n",
       "        }    #T_4a546086_8a43_11e9_ab6c_109add64fbe3row3_col6 {\n",
       "            background-color:  #7ea1fa;\n",
       "        }    #T_4a546086_8a43_11e9_ab6c_109add64fbe3row3_col7 {\n",
       "            background-color:  #3b4cc0;\n",
       "        }    #T_4a546086_8a43_11e9_ab6c_109add64fbe3row4_col0 {\n",
       "            background-color:  #3c4ec2;\n",
       "        }    #T_4a546086_8a43_11e9_ab6c_109add64fbe3row4_col1 {\n",
       "            background-color:  #9bbcff;\n",
       "        }    #T_4a546086_8a43_11e9_ab6c_109add64fbe3row4_col2 {\n",
       "            background-color:  #4961d2;\n",
       "        }    #T_4a546086_8a43_11e9_ab6c_109add64fbe3row4_col3 {\n",
       "            background-color:  #dbdcde;\n",
       "        }    #T_4a546086_8a43_11e9_ab6c_109add64fbe3row4_col4 {\n",
       "            background-color:  #b40426;\n",
       "        }    #T_4a546086_8a43_11e9_ab6c_109add64fbe3row4_col5 {\n",
       "            background-color:  #7597f6;\n",
       "        }    #T_4a546086_8a43_11e9_ab6c_109add64fbe3row4_col6 {\n",
       "            background-color:  #80a3fa;\n",
       "        }    #T_4a546086_8a43_11e9_ab6c_109add64fbe3row4_col7 {\n",
       "            background-color:  #4e68d8;\n",
       "        }    #T_4a546086_8a43_11e9_ab6c_109add64fbe3row5_col0 {\n",
       "            background-color:  #5673e0;\n",
       "        }    #T_4a546086_8a43_11e9_ab6c_109add64fbe3row5_col1 {\n",
       "            background-color:  #7295f4;\n",
       "        }    #T_4a546086_8a43_11e9_ab6c_109add64fbe3row5_col2 {\n",
       "            background-color:  #8db0fe;\n",
       "        }    #T_4a546086_8a43_11e9_ab6c_109add64fbe3row5_col3 {\n",
       "            background-color:  #d1dae9;\n",
       "        }    #T_4a546086_8a43_11e9_ab6c_109add64fbe3row5_col4 {\n",
       "            background-color:  #8db0fe;\n",
       "        }    #T_4a546086_8a43_11e9_ab6c_109add64fbe3row5_col5 {\n",
       "            background-color:  #b40426;\n",
       "        }    #T_4a546086_8a43_11e9_ab6c_109add64fbe3row5_col6 {\n",
       "            background-color:  #7093f3;\n",
       "        }    #T_4a546086_8a43_11e9_ab6c_109add64fbe3row5_col7 {\n",
       "            background-color:  #6485ec;\n",
       "        }    #T_4a546086_8a43_11e9_ab6c_109add64fbe3row6_col0 {\n",
       "            background-color:  #485fd1;\n",
       "        }    #T_4a546086_8a43_11e9_ab6c_109add64fbe3row6_col1 {\n",
       "            background-color:  #5470de;\n",
       "        }    #T_4a546086_8a43_11e9_ab6c_109add64fbe3row6_col2 {\n",
       "            background-color:  #3b4cc0;\n",
       "        }    #T_4a546086_8a43_11e9_ab6c_109add64fbe3row6_col3 {\n",
       "            background-color:  #93b5fe;\n",
       "        }    #T_4a546086_8a43_11e9_ab6c_109add64fbe3row6_col4 {\n",
       "            background-color:  #89acfd;\n",
       "        }    #T_4a546086_8a43_11e9_ab6c_109add64fbe3row6_col5 {\n",
       "            background-color:  #6282ea;\n",
       "        }    #T_4a546086_8a43_11e9_ab6c_109add64fbe3row6_col6 {\n",
       "            background-color:  #b40426;\n",
       "        }    #T_4a546086_8a43_11e9_ab6c_109add64fbe3row6_col7 {\n",
       "            background-color:  #6384eb;\n",
       "        }    #T_4a546086_8a43_11e9_ab6c_109add64fbe3row7_col0 {\n",
       "            background-color:  #efcfbf;\n",
       "        }    #T_4a546086_8a43_11e9_ab6c_109add64fbe3row7_col1 {\n",
       "            background-color:  #81a4fb;\n",
       "        }    #T_4a546086_8a43_11e9_ab6c_109add64fbe3row7_col2 {\n",
       "            background-color:  #7da0f9;\n",
       "        }    #T_4a546086_8a43_11e9_ab6c_109add64fbe3row7_col3 {\n",
       "            background-color:  #3b4cc0;\n",
       "        }    #T_4a546086_8a43_11e9_ab6c_109add64fbe3row7_col4 {\n",
       "            background-color:  #4358cb;\n",
       "        }    #T_4a546086_8a43_11e9_ab6c_109add64fbe3row7_col5 {\n",
       "            background-color:  #3f53c6;\n",
       "        }    #T_4a546086_8a43_11e9_ab6c_109add64fbe3row7_col6 {\n",
       "            background-color:  #4e68d8;\n",
       "        }    #T_4a546086_8a43_11e9_ab6c_109add64fbe3row7_col7 {\n",
       "            background-color:  #b40426;\n",
       "        }</style>  \n",
       "<table id=\"T_4a546086_8a43_11e9_ab6c_109add64fbe3\" > \n",
       "<thead>    <tr> \n",
       "        <th class=\"blank level0\" ></th> \n",
       "        <th class=\"col_heading level0 col0\" >Preg</th> \n",
       "        <th class=\"col_heading level0 col1\" >Glu</th> \n",
       "        <th class=\"col_heading level0 col2\" >Dias</th> \n",
       "        <th class=\"col_heading level0 col3\" >Tric</th> \n",
       "        <th class=\"col_heading level0 col4\" >Ins</th> \n",
       "        <th class=\"col_heading level0 col5\" >Bmi</th> \n",
       "        <th class=\"col_heading level0 col6\" >Ped</th> \n",
       "        <th class=\"col_heading level0 col7\" >Age</th> \n",
       "    </tr></thead> \n",
       "<tbody>    <tr> \n",
       "        <th id=\"T_4a546086_8a43_11e9_ab6c_109add64fbe3level0_row0\" class=\"row_heading level0 row0\" >Preg</th> \n",
       "        <td id=\"T_4a546086_8a43_11e9_ab6c_109add64fbe3row0_col0\" class=\"data row0 col0\" >1</td> \n",
       "        <td id=\"T_4a546086_8a43_11e9_ab6c_109add64fbe3row0_col1\" class=\"data row0 col1\" >0.129459</td> \n",
       "        <td id=\"T_4a546086_8a43_11e9_ab6c_109add64fbe3row0_col2\" class=\"data row0 col2\" >0.141282</td> \n",
       "        <td id=\"T_4a546086_8a43_11e9_ab6c_109add64fbe3row0_col3\" class=\"data row0 col3\" >-0.0816718</td> \n",
       "        <td id=\"T_4a546086_8a43_11e9_ab6c_109add64fbe3row0_col4\" class=\"data row0 col4\" >-0.0735346</td> \n",
       "        <td id=\"T_4a546086_8a43_11e9_ab6c_109add64fbe3row0_col5\" class=\"data row0 col5\" >0.0176831</td> \n",
       "        <td id=\"T_4a546086_8a43_11e9_ab6c_109add64fbe3row0_col6\" class=\"data row0 col6\" >-0.0335227</td> \n",
       "        <td id=\"T_4a546086_8a43_11e9_ab6c_109add64fbe3row0_col7\" class=\"data row0 col7\" >0.544341</td> \n",
       "    </tr>    <tr> \n",
       "        <th id=\"T_4a546086_8a43_11e9_ab6c_109add64fbe3level0_row1\" class=\"row_heading level0 row1\" >Glu</th> \n",
       "        <td id=\"T_4a546086_8a43_11e9_ab6c_109add64fbe3row1_col0\" class=\"data row1 col0\" >0.129459</td> \n",
       "        <td id=\"T_4a546086_8a43_11e9_ab6c_109add64fbe3row1_col1\" class=\"data row1 col1\" >1</td> \n",
       "        <td id=\"T_4a546086_8a43_11e9_ab6c_109add64fbe3row1_col2\" class=\"data row1 col2\" >0.15259</td> \n",
       "        <td id=\"T_4a546086_8a43_11e9_ab6c_109add64fbe3row1_col3\" class=\"data row1 col3\" >0.0573279</td> \n",
       "        <td id=\"T_4a546086_8a43_11e9_ab6c_109add64fbe3row1_col4\" class=\"data row1 col4\" >0.331357</td> \n",
       "        <td id=\"T_4a546086_8a43_11e9_ab6c_109add64fbe3row1_col5\" class=\"data row1 col5\" >0.221071</td> \n",
       "        <td id=\"T_4a546086_8a43_11e9_ab6c_109add64fbe3row1_col6\" class=\"data row1 col6\" >0.137337</td> \n",
       "        <td id=\"T_4a546086_8a43_11e9_ab6c_109add64fbe3row1_col7\" class=\"data row1 col7\" >0.263514</td> \n",
       "    </tr>    <tr> \n",
       "        <th id=\"T_4a546086_8a43_11e9_ab6c_109add64fbe3level0_row2\" class=\"row_heading level0 row2\" >Dias</th> \n",
       "        <td id=\"T_4a546086_8a43_11e9_ab6c_109add64fbe3row2_col0\" class=\"data row2 col0\" >0.141282</td> \n",
       "        <td id=\"T_4a546086_8a43_11e9_ab6c_109add64fbe3row2_col1\" class=\"data row2 col1\" >0.15259</td> \n",
       "        <td id=\"T_4a546086_8a43_11e9_ab6c_109add64fbe3row2_col2\" class=\"data row2 col2\" >1</td> \n",
       "        <td id=\"T_4a546086_8a43_11e9_ab6c_109add64fbe3row2_col3\" class=\"data row2 col3\" >0.207371</td> \n",
       "        <td id=\"T_4a546086_8a43_11e9_ab6c_109add64fbe3row2_col4\" class=\"data row2 col4\" >0.0889334</td> \n",
       "        <td id=\"T_4a546086_8a43_11e9_ab6c_109add64fbe3row2_col5\" class=\"data row2 col5\" >0.281805</td> \n",
       "        <td id=\"T_4a546086_8a43_11e9_ab6c_109add64fbe3row2_col6\" class=\"data row2 col6\" >0.0412649</td> \n",
       "        <td id=\"T_4a546086_8a43_11e9_ab6c_109add64fbe3row2_col7\" class=\"data row2 col7\" >0.239528</td> \n",
       "    </tr>    <tr> \n",
       "        <th id=\"T_4a546086_8a43_11e9_ab6c_109add64fbe3level0_row3\" class=\"row_heading level0 row3\" >Tric</th> \n",
       "        <td id=\"T_4a546086_8a43_11e9_ab6c_109add64fbe3row3_col0\" class=\"data row3 col0\" >-0.0816718</td> \n",
       "        <td id=\"T_4a546086_8a43_11e9_ab6c_109add64fbe3row3_col1\" class=\"data row3 col1\" >0.0573279</td> \n",
       "        <td id=\"T_4a546086_8a43_11e9_ab6c_109add64fbe3row3_col2\" class=\"data row3 col2\" >0.207371</td> \n",
       "        <td id=\"T_4a546086_8a43_11e9_ab6c_109add64fbe3row3_col3\" class=\"data row3 col3\" >1</td> \n",
       "        <td id=\"T_4a546086_8a43_11e9_ab6c_109add64fbe3row3_col4\" class=\"data row3 col4\" >0.436783</td> \n",
       "        <td id=\"T_4a546086_8a43_11e9_ab6c_109add64fbe3row3_col5\" class=\"data row3 col5\" >0.392573</td> \n",
       "        <td id=\"T_4a546086_8a43_11e9_ab6c_109add64fbe3row3_col6\" class=\"data row3 col6\" >0.183928</td> \n",
       "        <td id=\"T_4a546086_8a43_11e9_ab6c_109add64fbe3row3_col7\" class=\"data row3 col7\" >-0.11397</td> \n",
       "    </tr>    <tr> \n",
       "        <th id=\"T_4a546086_8a43_11e9_ab6c_109add64fbe3level0_row4\" class=\"row_heading level0 row4\" >Ins</th> \n",
       "        <td id=\"T_4a546086_8a43_11e9_ab6c_109add64fbe3row4_col0\" class=\"data row4 col0\" >-0.0735346</td> \n",
       "        <td id=\"T_4a546086_8a43_11e9_ab6c_109add64fbe3row4_col1\" class=\"data row4 col1\" >0.331357</td> \n",
       "        <td id=\"T_4a546086_8a43_11e9_ab6c_109add64fbe3row4_col2\" class=\"data row4 col2\" >0.0889334</td> \n",
       "        <td id=\"T_4a546086_8a43_11e9_ab6c_109add64fbe3row4_col3\" class=\"data row4 col3\" >0.436783</td> \n",
       "        <td id=\"T_4a546086_8a43_11e9_ab6c_109add64fbe3row4_col4\" class=\"data row4 col4\" >1</td> \n",
       "        <td id=\"T_4a546086_8a43_11e9_ab6c_109add64fbe3row4_col5\" class=\"data row4 col5\" >0.197859</td> \n",
       "        <td id=\"T_4a546086_8a43_11e9_ab6c_109add64fbe3row4_col6\" class=\"data row4 col6\" >0.185071</td> \n",
       "        <td id=\"T_4a546086_8a43_11e9_ab6c_109add64fbe3row4_col7\" class=\"data row4 col7\" >-0.042163</td> \n",
       "    </tr>    <tr> \n",
       "        <th id=\"T_4a546086_8a43_11e9_ab6c_109add64fbe3level0_row5\" class=\"row_heading level0 row5\" >Bmi</th> \n",
       "        <td id=\"T_4a546086_8a43_11e9_ab6c_109add64fbe3row5_col0\" class=\"data row5 col0\" >0.0176831</td> \n",
       "        <td id=\"T_4a546086_8a43_11e9_ab6c_109add64fbe3row5_col1\" class=\"data row5 col1\" >0.221071</td> \n",
       "        <td id=\"T_4a546086_8a43_11e9_ab6c_109add64fbe3row5_col2\" class=\"data row5 col2\" >0.281805</td> \n",
       "        <td id=\"T_4a546086_8a43_11e9_ab6c_109add64fbe3row5_col3\" class=\"data row5 col3\" >0.392573</td> \n",
       "        <td id=\"T_4a546086_8a43_11e9_ab6c_109add64fbe3row5_col4\" class=\"data row5 col4\" >0.197859</td> \n",
       "        <td id=\"T_4a546086_8a43_11e9_ab6c_109add64fbe3row5_col5\" class=\"data row5 col5\" >1</td> \n",
       "        <td id=\"T_4a546086_8a43_11e9_ab6c_109add64fbe3row5_col6\" class=\"data row5 col6\" >0.140647</td> \n",
       "        <td id=\"T_4a546086_8a43_11e9_ab6c_109add64fbe3row5_col7\" class=\"data row5 col7\" >0.0362419</td> \n",
       "    </tr>    <tr> \n",
       "        <th id=\"T_4a546086_8a43_11e9_ab6c_109add64fbe3level0_row6\" class=\"row_heading level0 row6\" >Ped</th> \n",
       "        <td id=\"T_4a546086_8a43_11e9_ab6c_109add64fbe3row6_col0\" class=\"data row6 col0\" >-0.0335227</td> \n",
       "        <td id=\"T_4a546086_8a43_11e9_ab6c_109add64fbe3row6_col1\" class=\"data row6 col1\" >0.137337</td> \n",
       "        <td id=\"T_4a546086_8a43_11e9_ab6c_109add64fbe3row6_col2\" class=\"data row6 col2\" >0.0412649</td> \n",
       "        <td id=\"T_4a546086_8a43_11e9_ab6c_109add64fbe3row6_col3\" class=\"data row6 col3\" >0.183928</td> \n",
       "        <td id=\"T_4a546086_8a43_11e9_ab6c_109add64fbe3row6_col4\" class=\"data row6 col4\" >0.185071</td> \n",
       "        <td id=\"T_4a546086_8a43_11e9_ab6c_109add64fbe3row6_col5\" class=\"data row6 col5\" >0.140647</td> \n",
       "        <td id=\"T_4a546086_8a43_11e9_ab6c_109add64fbe3row6_col6\" class=\"data row6 col6\" >1</td> \n",
       "        <td id=\"T_4a546086_8a43_11e9_ab6c_109add64fbe3row6_col7\" class=\"data row6 col7\" >0.0335613</td> \n",
       "    </tr>    <tr> \n",
       "        <th id=\"T_4a546086_8a43_11e9_ab6c_109add64fbe3level0_row7\" class=\"row_heading level0 row7\" >Age</th> \n",
       "        <td id=\"T_4a546086_8a43_11e9_ab6c_109add64fbe3row7_col0\" class=\"data row7 col0\" >0.544341</td> \n",
       "        <td id=\"T_4a546086_8a43_11e9_ab6c_109add64fbe3row7_col1\" class=\"data row7 col1\" >0.263514</td> \n",
       "        <td id=\"T_4a546086_8a43_11e9_ab6c_109add64fbe3row7_col2\" class=\"data row7 col2\" >0.239528</td> \n",
       "        <td id=\"T_4a546086_8a43_11e9_ab6c_109add64fbe3row7_col3\" class=\"data row7 col3\" >-0.11397</td> \n",
       "        <td id=\"T_4a546086_8a43_11e9_ab6c_109add64fbe3row7_col4\" class=\"data row7 col4\" >-0.042163</td> \n",
       "        <td id=\"T_4a546086_8a43_11e9_ab6c_109add64fbe3row7_col5\" class=\"data row7 col5\" >0.0362419</td> \n",
       "        <td id=\"T_4a546086_8a43_11e9_ab6c_109add64fbe3row7_col6\" class=\"data row7 col6\" >0.0335613</td> \n",
       "        <td id=\"T_4a546086_8a43_11e9_ab6c_109add64fbe3row7_col7\" class=\"data row7 col7\" >1</td> \n",
       "    </tr></tbody> \n",
       "</table> "
      ],
      "text/plain": [
       "<pandas.io.formats.style.Styler at 0x10cadefd0>"
      ]
     },
     "execution_count": 74,
     "metadata": {},
     "output_type": "execute_result"
    }
   ],
   "source": [
    "corr = diabetes.corr()\n",
    "corr.style.background_gradient(cmap='coolwarm')\n"
   ]
  },
  {
   "cell_type": "markdown",
   "metadata": {},
   "source": [
    "# Model building"
   ]
  },
  {
   "cell_type": "markdown",
   "metadata": {},
   "source": [
    "# Step 1\n",
    "\n",
    "Check for any null values"
   ]
  },
  {
   "cell_type": "code",
   "execution_count": 78,
   "metadata": {},
   "outputs": [
    {
     "data": {
      "text/plain": [
       "Preg      0\n",
       "Glu       0\n",
       "Dias      0\n",
       "Tric      0\n",
       "Ins       0\n",
       "Bmi       0\n",
       "Ped       0\n",
       "Age       0\n",
       "Target    0\n",
       "dtype: int64"
      ]
     },
     "execution_count": 78,
     "metadata": {},
     "output_type": "execute_result"
    }
   ],
   "source": [
    "diabetes.isnull().sum()"
   ]
  },
  {
   "cell_type": "markdown",
   "metadata": {},
   "source": [
    "There are no null values in the dataset. Hence, we can go ahead with machine learning algorithm"
   ]
  },
  {
   "cell_type": "markdown",
   "metadata": {},
   "source": [
    "# Train / Test split"
   ]
  },
  {
   "cell_type": "code",
   "execution_count": 79,
   "metadata": {},
   "outputs": [],
   "source": [
    "from sklearn.model_selection import train_test_split\n",
    "train, test = train_test_split(diabetes, test_size=0.2)\n",
    "x_train, y_train = train.iloc[:,:8] , train.iloc[:,8]\n",
    "x_test, y_test = test.iloc[:,:8] , test.iloc[:,8]"
   ]
  },
  {
   "cell_type": "code",
   "execution_count": 80,
   "metadata": {},
   "outputs": [
    {
     "data": {
      "text/plain": [
       "0    99\n",
       "1    55\n",
       "Name: Target, dtype: int64"
      ]
     },
     "execution_count": 80,
     "metadata": {},
     "output_type": "execute_result"
    }
   ],
   "source": [
    "pd.value_counts(test.Target)"
   ]
  },
  {
   "cell_type": "markdown",
   "metadata": {},
   "source": [
    "# Apply logistics Regression Model"
   ]
  },
  {
   "cell_type": "markdown",
   "metadata": {},
   "source": [
    "We use a training data set containing a random sample of 70% of the observation to perform a Logistics Regression with \"Diabetes\" as the response and remaining variabel as predictors"
   ]
  },
  {
   "cell_type": "code",
   "execution_count": 81,
   "metadata": {},
   "outputs": [],
   "source": [
    "from sklearn.linear_model import LogisticRegression\n",
    "from sklearn.ensemble import RandomForestClassifier\n",
    "from sklearn.svm import LinearSVC"
   ]
  },
  {
   "cell_type": "code",
   "execution_count": 86,
   "metadata": {},
   "outputs": [],
   "source": [
    "# create classifiers\n",
    "lr = LogisticRegression(penalty='l1', solver='liblinear')\n",
    "svc = LinearSVC(C=1.0)\n",
    "rfc = RandomForestClassifier(n_estimators=100)"
   ]
  },
  {
   "cell_type": "code",
   "execution_count": 87,
   "metadata": {},
   "outputs": [
    {
     "data": {
      "text/plain": [
       "LogisticRegression(C=1.0, class_weight=None, dual=False, fit_intercept=True,\n",
       "          intercept_scaling=1, max_iter=100, multi_class='warn',\n",
       "          n_jobs=None, penalty='l1', random_state=None, solver='liblinear',\n",
       "          tol=0.0001, verbose=0, warm_start=False)"
      ]
     },
     "execution_count": 87,
     "metadata": {},
     "output_type": "execute_result"
    }
   ],
   "source": [
    "lr.fit(x_train,y_train)"
   ]
  },
  {
   "cell_type": "code",
   "execution_count": 88,
   "metadata": {},
   "outputs": [
    {
     "data": {
      "text/plain": [
       "0.7532467532467533"
      ]
     },
     "execution_count": 88,
     "metadata": {},
     "output_type": "execute_result"
    }
   ],
   "source": [
    "lr.score(x_test, y_test)"
   ]
  },
  {
   "cell_type": "code",
   "execution_count": 89,
   "metadata": {},
   "outputs": [
    {
     "data": {
      "text/plain": [
       "array([[ 0.06378724,  0.03229531, -0.01463218,  0.00303388, -0.00161989,\n",
       "         0.09417074,  0.54761947,  0.03447975]])"
      ]
     },
     "execution_count": 89,
     "metadata": {},
     "output_type": "execute_result"
    }
   ],
   "source": [
    "lr.coef_"
   ]
  },
  {
   "cell_type": "code",
   "execution_count": 119,
   "metadata": {},
   "outputs": [],
   "source": [
    "from pygam import LogisticGAM\n",
    "\n",
    "gam = LogisticGAM(n_splines=10, lam=0.6)"
   ]
  },
  {
   "cell_type": "code",
   "execution_count": 120,
   "metadata": {},
   "outputs": [],
   "source": [
    "model = gam.fit(x_train,y_train)"
   ]
  },
  {
   "cell_type": "code",
   "execution_count": 121,
   "metadata": {},
   "outputs": [
    {
     "name": "stdout",
     "output_type": "stream",
     "text": [
      "LogisticGAM                                                                                               \n",
      "=============================================== ==========================================================\n",
      "Distribution:                      BinomialDist Effective DoF:                                     28.6465\n",
      "Link Function:                        LogitLink Log Likelihood:                                  -255.1408\n",
      "Number of Samples:                          614 AIC:                                              567.5746\n",
      "                                                AICc:                                             570.6895\n",
      "                                                UBRE:                                               2.9617\n",
      "                                                Scale:                                                 1.0\n",
      "                                                Pseudo R-Squared:                                   0.3563\n",
      "==========================================================================================================\n",
      "Feature Function                  Lambda               Rank         EDoF         P > x        Sig. Code   \n",
      "================================= ==================== ============ ============ ============ ============\n",
      "s(0)                              [0.6]                10           4.9          6.20e-01                 \n",
      "s(1)                              [0.6]                10           3.8          9.65e-14     ***         \n",
      "s(2)                              [0.6]                10           3.6          5.35e-01                 \n",
      "s(3)                              [0.6]                10           3.9          9.64e-01                 \n",
      "s(4)                              [0.6]                10           3.6          3.11e-02     *           \n",
      "s(5)                              [0.6]                10           2.9          4.35e-05     ***         \n",
      "s(6)                              [0.6]                10           2.8          5.91e-03     **          \n",
      "s(7)                              [0.6]                10           3.2          3.33e-05     ***         \n",
      "intercept                                              1            0.0          1.58e-01                 \n",
      "==========================================================================================================\n",
      "Significance codes:  0 '***' 0.001 '**' 0.01 '*' 0.05 '.' 0.1 ' ' 1\n",
      "\n",
      "WARNING: Fitting splines and a linear function to a feature introduces a model identifiability problem\n",
      "         which can cause p-values to appear significant when they are not.\n",
      "\n",
      "WARNING: p-values calculated in this manner behave correctly for un-penalized models or models with\n",
      "         known smoothing parameters, but when smoothing parameters have been estimated, the p-values\n",
      "         are typically lower than they should be, meaning that the tests reject the null too readily.\n"
     ]
    },
    {
     "name": "stderr",
     "output_type": "stream",
     "text": [
      "/Users/puneetgirdhar/.virtualenvs/data/lib/python3.6/site-packages/ipykernel_launcher.py:1: UserWarning: KNOWN BUG: p-values computed in this summary are likely much smaller than they should be. \n",
      " \n",
      "Please do not make inferences based on these values! \n",
      "\n",
      "Collaborate on a solution, and stay up to date at: \n",
      "github.com/dswah/pyGAM/issues/163 \n",
      "\n",
      "  \"\"\"Entry point for launching an IPython kernel.\n"
     ]
    }
   ],
   "source": [
    "model.summary()"
   ]
  },
  {
   "cell_type": "code",
   "execution_count": 122,
   "metadata": {},
   "outputs": [
    {
     "data": {
      "text/plain": [
       "0.7987012987012987"
      ]
     },
     "execution_count": 122,
     "metadata": {},
     "output_type": "execute_result"
    }
   ],
   "source": [
    "np.mean(model.predict(x_test)==y_test)"
   ]
  },
  {
   "cell_type": "code",
   "execution_count": null,
   "metadata": {},
   "outputs": [],
   "source": []
  }
 ],
 "metadata": {
  "kernelspec": {
   "display_name": "Python 3",
   "language": "python",
   "name": "python3"
  },
  "language_info": {
   "codemirror_mode": {
    "name": "ipython",
    "version": 3
   },
   "file_extension": ".py",
   "mimetype": "text/x-python",
   "name": "python",
   "nbconvert_exporter": "python",
   "pygments_lexer": "ipython3",
   "version": "3.6.4"
  }
 },
 "nbformat": 4,
 "nbformat_minor": 2
}
